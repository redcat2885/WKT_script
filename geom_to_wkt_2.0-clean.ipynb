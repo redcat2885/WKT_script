{
 "cells": [
  {
   "cell_type": "code",
   "execution_count": null,
   "metadata": {},
   "outputs": [],
   "source": [
    "import pandas as pd"
   ]
  },
  {
   "cell_type": "code",
   "execution_count": null,
   "metadata": {
    "scrolled": true
   },
   "outputs": [],
   "source": [
    "import_path = # адрес загрузки\n",
    "export_folder = # ПАПКА выгрузки (D:\\Folder1\\Folder2)\n",
    "data = pd.read_csv(import_path,delimiter=';')\n",
    "route_num_list = data['ROUTE_NUMBER'].unique()"
   ]
  },
  {
   "cell_type": "code",
   "execution_count": null,
   "metadata": {},
   "outputs": [],
   "source": [
    "for n in range(len(route_num_list)):\n",
    "    rows = data[(data['ROUTE_NUMBER']==route_num_list[n])]\n",
    "    route_num = route_num_list[n]\n",
    "    export_path = export_folder +'\\data_'+route_num+'.csv'\n",
    "    for i in range(len(rows)):\n",
    "        rows['STAGE_SHAPE'].iloc[i]= 'MULTILINESTRING ((' + rows['STAGE_SHAPE'].iloc[i] + '))'\n",
    "    rows.to_csv(export_path,sep=';')\n",
    "    print('Маршрут №',route_num,'выгружен успешно')"
   ]
  }
 ],
 "metadata": {
  "kernelspec": {
   "display_name": "Python 3",
   "language": "python",
   "name": "python3"
  },
  "language_info": {
   "codemirror_mode": {
    "name": "ipython",
    "version": 3
   },
   "file_extension": ".py",
   "mimetype": "text/x-python",
   "name": "python",
   "nbconvert_exporter": "python",
   "pygments_lexer": "ipython3",
   "version": "3.7.6"
  }
 },
 "nbformat": 4,
 "nbformat_minor": 4
}
