{
 "cells": [
  {
   "cell_type": "code",
   "execution_count": null,
   "metadata": {},
   "outputs": [],
   "source": [
    "import pandas as pd"
   ]
  },
  {
   "cell_type": "code",
   "execution_count": null,
   "metadata": {
    "scrolled": true
   },
   "outputs": [],
   "source": [
    "import_path = # адрес данных по маршрутам\n",
    "import_stops = # адрес данных по остановкам\n",
    "export_folder_id = # адрес ПАПКИ выгрузки данных\n",
    "data = pd.read_csv(import_path,delimiter=';')\n",
    "stop_data = pd.read_csv(import_stops)\n",
    "route_id_list = stop_data['route_id'].unique()"
   ]
  },
  {
   "cell_type": "code",
   "execution_count": null,
   "metadata": {},
   "outputs": [],
   "source": [
    "for n in range(len(route_id_list)):\n",
    "    rows_id = data[(data['ROUTE_ID_ASU']==route_id_list[n])]\n",
    "    route_id = route_id_list[n]\n",
    "    export_path_id = export_folder_id +'\\data_id='+str(route_id)+'.csv'\n",
    "    for i in range(len(rows_id)):\n",
    "        rows_id['STAGE_SHAPE'].iloc[i]= 'MULTILINESTRING ((' + rows_id['STAGE_SHAPE'].iloc[i] + '))'\n",
    "    rows_id.to_csv(export_path_id,sep=';')\n",
    "    print('Маршрут ID =',route_id,'выгружен успешно')"
   ]
  }
 ],
 "metadata": {
  "kernelspec": {
   "display_name": "Python 3",
   "language": "python",
   "name": "python3"
  },
  "language_info": {
   "codemirror_mode": {
    "name": "ipython",
    "version": 3
   },
   "file_extension": ".py",
   "mimetype": "text/x-python",
   "name": "python",
   "nbconvert_exporter": "python",
   "pygments_lexer": "ipython3",
   "version": "3.7.6"
  }
 },
 "nbformat": 4,
 "nbformat_minor": 4
}
